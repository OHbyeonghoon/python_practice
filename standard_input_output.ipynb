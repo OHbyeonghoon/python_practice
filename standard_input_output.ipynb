{
 "cells": [
  {
   "cell_type": "markdown",
   "metadata": {},
   "source": [
    "## 표준 입출력"
   ]
  },
  {
   "cell_type": "code",
   "execution_count": 5,
   "metadata": {},
   "outputs": [
    {
     "name": "stdout",
     "output_type": "stream",
     "text": [
      "python, java?무엇을 \n"
     ]
    }
   ],
   "source": [
    "#구분자 생성\n",
    "print(\"python\", \"java\", sep = \", \", end = \"?\") #end 사용시 한줄에 표현 가능\n",
    "print(\"무엇을 \")"
   ]
  },
  {
   "cell_type": "markdown",
   "metadata": {},
   "source": [
    "- 표준 에러, 표준 출력"
   ]
  },
  {
   "cell_type": "code",
   "execution_count": 8,
   "metadata": {},
   "outputs": [
    {
     "name": "stdout",
     "output_type": "stream",
     "text": [
      "python java\n"
     ]
    },
    {
     "name": "stderr",
     "output_type": "stream",
     "text": [
      "python java\n"
     ]
    }
   ],
   "source": [
    "import sys\n",
    "\n",
    "print(\"python\", \"java\", file= sys.stdout) #표준 출력으로 찍어주세요\n",
    "print(\"python\", \"java\", file= sys.stderr) #표준 에러로 찍어주세요\n"
   ]
  },
  {
   "cell_type": "code",
   "execution_count": 11,
   "metadata": {},
   "outputs": [
    {
     "name": "stdout",
     "output_type": "stream",
     "text": [
      "math        0\n",
      "eng       100\n",
      "code       30\n"
     ]
    }
   ],
   "source": [
    "scores = {\"math\":0, \"eng\":100, \"code\":30}\n",
    "\n",
    "for subject, score in scores.items():\n",
    "    # print(subject, score)\n",
    "    print(subject.ljust(8), str(score).rjust(4))\n",
    "#문자열의 공간 삽입 ljust, rjust"
   ]
  },
  {
   "cell_type": "code",
   "execution_count": 17,
   "metadata": {},
   "outputs": [
    {
     "name": "stdout",
     "output_type": "stream",
     "text": [
      "대기번호:1\n",
      "------\n",
      "대기번호:001\n",
      "대기번호:2\n",
      "------\n",
      "대기번호:002\n",
      "대기번호:3\n",
      "------\n",
      "대기번호:003\n",
      "대기번호:4\n",
      "------\n",
      "대기번호:004\n",
      "대기번호:5\n",
      "------\n",
      "대기번호:005\n",
      "대기번호:6\n",
      "------\n",
      "대기번호:006\n",
      "대기번호:7\n",
      "------\n",
      "대기번호:007\n",
      "대기번호:8\n",
      "------\n",
      "대기번호:008\n",
      "대기번호:9\n",
      "------\n",
      "대기번호:009\n"
     ]
    }
   ],
   "source": [
    "#은행 대기 순번표\n",
    "# 예제 001, 002, 003 등등\n",
    "\n",
    "for num in range(1,10):\n",
    "    print(\"대기번호:\" + str(num))\n",
    "    print(\"------\")\n",
    "    print(\"대기번호:\" + str(num).zfill(3)) # 3만큼의 크기를 확보하고 그 공간의 0을 넣겠다"
   ]
  },
  {
   "cell_type": "markdown",
   "metadata": {},
   "source": [
    "## 다양한 출력 포맷"
   ]
  },
  {
   "cell_type": "code",
   "execution_count": 46,
   "metadata": {},
   "outputs": [
    {
     "name": "stdout",
     "output_type": "stream",
     "text": [
      "       500\n",
      "      +500\n",
      "      -500\n",
      "500_______\n",
      "5,000\n",
      "+5,000\n",
      "+5,000^^^^\n",
      "1.666667\n",
      "1.67\n"
     ]
    }
   ],
   "source": [
    "# 빈자리는 빈공가능로 두고, 오른쪽 정렬을 하되, 총 10자리 공간 확보\n",
    "print(f\"{500: >10,}\")\n",
    "#양수일때 + 음수일때 - 표시\n",
    "print(f\"{500: >+10}\")\n",
    "print(f\"{-500: >+10}\")\n",
    "#왼쪽 정렬하고 빈칸을, _로 채움\n",
    "print(f\"{500:_<10}\") #띄어쓰기 유의\n",
    "#3자리마다 , 찍\n",
    "print(f\"{5000:,}\")\n",
    "#3자리마다 ',' 찍 되, + 표기\n",
    "print(f\"{5000:+,}\")\n",
    "#3자리마다 ',' 찍 되, + 표기 + 자리수 확보, 빈자리는 ^ 표기\n",
    "print(f\"{5000:^<+10,}\")\n",
    "# 소수점\n",
    "print(f\"{5/3:f}\")\n",
    "print(f\"{5/3:.2f}\")"
   ]
  },
  {
   "cell_type": "code",
   "execution_count": null,
   "metadata": {},
   "outputs": [],
   "source": []
  },
  {
   "cell_type": "code",
   "execution_count": null,
   "metadata": {},
   "outputs": [],
   "source": []
  },
  {
   "cell_type": "code",
   "execution_count": null,
   "metadata": {},
   "outputs": [],
   "source": []
  },
  {
   "cell_type": "code",
   "execution_count": null,
   "metadata": {},
   "outputs": [],
   "source": []
  },
  {
   "cell_type": "code",
   "execution_count": null,
   "metadata": {},
   "outputs": [],
   "source": []
  },
  {
   "cell_type": "code",
   "execution_count": null,
   "metadata": {},
   "outputs": [],
   "source": []
  }
 ],
 "metadata": {
  "kernelspec": {
   "display_name": "base",
   "language": "python",
   "name": "python3"
  },
  "language_info": {
   "codemirror_mode": {
    "name": "ipython",
    "version": 3
   },
   "file_extension": ".py",
   "mimetype": "text/x-python",
   "name": "python",
   "nbconvert_exporter": "python",
   "pygments_lexer": "ipython3",
   "version": "3.11.7"
  }
 },
 "nbformat": 4,
 "nbformat_minor": 2
}
