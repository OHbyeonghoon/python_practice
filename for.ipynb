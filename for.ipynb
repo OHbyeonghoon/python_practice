{
 "cells": [
  {
   "cell_type": "markdown",
   "metadata": {},
   "source": [
    "## for 문 practice "
   ]
  },
  {
   "cell_type": "code",
   "execution_count": 1,
   "metadata": {},
   "outputs": [
    {
     "data": {
      "text/plain": [
       "1"
      ]
     },
     "execution_count": 1,
     "metadata": {},
     "output_type": "execute_result"
    }
   ],
   "source": [
    "1"
   ]
  },
  {
   "cell_type": "code",
   "execution_count": 3,
   "metadata": {},
   "outputs": [
    {
     "name": "stdout",
     "output_type": "stream",
     "text": [
      "대기번호 : 1\n",
      "대기번호 : 2\n",
      "대기번호 : 3\n",
      "대기번호 : 4\n",
      "-------------\n",
      "대기번호 : 0\n",
      "대기번호 : 1\n",
      "대기번호 : 2\n",
      "대기번호 : 3\n",
      "대기번호 : 4\n"
     ]
    }
   ],
   "source": [
    "print(\"대기번호 : 1\")\n",
    "print(\"대기번호 : 2\")\n",
    "print(\"대기번호 : 3\")\n",
    "print(\"대기번호 : 4\")\n",
    "\n",
    "print(\"-------------\")\n",
    "# 위와 같은 문\n",
    "\n",
    "for wating_no in [0,1,2,3,4]:\n",
    "    print(f\"대기번호 : {wating_no}\")"
   ]
  },
  {
   "cell_type": "code",
   "execution_count": 4,
   "metadata": {},
   "outputs": [
    {
     "name": "stdout",
     "output_type": "stream",
     "text": [
      "대기번호 : 0\n",
      "대기번호 : 1\n",
      "대기번호 : 2\n",
      "대기번호 : 3\n",
      "대기번호 : 4\n"
     ]
    }
   ],
   "source": [
    "#순차적으로 숫자를 적을 떄, 간단히 적는 방법\n",
    "\n",
    "for wating_no in range(5):\n",
    "    print(f\"대기번호 : {wating_no}\")"
   ]
  },
  {
   "cell_type": "code",
   "execution_count": 7,
   "metadata": {},
   "outputs": [
    {
     "name": "stdout",
     "output_type": "stream",
     "text": [
      "유재석, 커피 준비됐따\n",
      "박명수, 커피 준비됐따\n",
      "정준하, 커피 준비됐따\n"
     ]
    }
   ],
   "source": [
    "coffee = [\"유재석\", \"박명수\", \"정준하\"]\n",
    "\n",
    "for customer in coffee:\n",
    "    print(f\"{customer}, 커피 준비됐따\")"
   ]
  },
  {
   "cell_type": "markdown",
   "metadata": {},
   "source": [
    "### while "
   ]
  },
  {
   "cell_type": "code",
   "execution_count": 8,
   "metadata": {},
   "outputs": [
    {
     "name": "stdout",
     "output_type": "stream",
     "text": [
      "오병훈, 커피가져가라. 5번 남았다 \n",
      "오병훈, 커피가져가라. 4번 남았다 \n",
      "오병훈, 커피가져가라. 3번 남았다 \n",
      "오병훈, 커피가져가라. 2번 남았다 \n",
      "오병훈, 커피가져가라. 1번 남았다 \n",
      "커피 버린다\n"
     ]
    }
   ],
   "source": [
    "customer = \"오병훈\"\n",
    "\n",
    "index = 5\n",
    "\n",
    "# while 조건: (조건 만족까지 콜)\n",
    "while index >= 1:\n",
    "    print(f\"{customer}, 커피가져가라. {index}번 남았다 \")\n",
    "    index -= 1\n",
    "    if index==0:\n",
    "        print(\"커피 버린다\")"
   ]
  },
  {
   "cell_type": "markdown",
   "metadata": {},
   "source": [
    "- while은 마무리를 지어주지 않으면 무한루프에 빠지니 조심 할 필요가 있따"
   ]
  },
  {
   "cell_type": "code",
   "execution_count": 9,
   "metadata": {},
   "outputs": [
    {
     "name": "stdout",
     "output_type": "stream",
     "text": [
      "오병훈야 커피 가져가라\n",
      "오병훈야 커피 가져가라\n"
     ]
    }
   ],
   "source": [
    "customer = \"오병훈\"\n",
    "person = \"none\"\n",
    "\n",
    "while person != customer:\n",
    "    print(f\"{customer}야 커피 가져가라\")\n",
    "    person = input(\"이름이 어캐 되나요?\")"
   ]
  },
  {
   "cell_type": "markdown",
   "metadata": {},
   "source": [
    "### continue , break"
   ]
  },
  {
   "cell_type": "code",
   "execution_count": 12,
   "metadata": {},
   "outputs": [
    {
     "name": "stdout",
     "output_type": "stream",
     "text": [
      "1, 책읽어라\n",
      "3, 책읽어라\n",
      "4, 책읽어라\n",
      "6, 책읽어라\n"
     ]
    }
   ],
   "source": [
    "#continue 예제\n",
    "absent = [2,5]\n",
    "no_book = [7,15]\n",
    "\n",
    "for student in range(1,21):\n",
    "    if student in absent:\n",
    "        continue\n",
    "    elif student in no_book:\n",
    "        break\n",
    "    print(f\"{student}, 책읽어라\")"
   ]
  },
  {
   "cell_type": "markdown",
   "metadata": {},
   "source": [
    "## 한줄 for문"
   ]
  },
  {
   "cell_type": "code",
   "execution_count": 13,
   "metadata": {},
   "outputs": [
    {
     "name": "stdout",
     "output_type": "stream",
     "text": [
      "[1, 2, 3, 4, 5, 6]\n",
      "[101, 102, 103, 104, 105, 106]\n"
     ]
    }
   ],
   "source": [
    "#출석번호 1,2,3 이 있는데 앞에 100을 붙이기로함 -> 101,102 ...\n",
    "\n",
    "student = [1,2,3,4,5,6]\n",
    "\n",
    "print(student)\n",
    "student = [i + 100 for i in student]\n",
    "print(student)"
   ]
  },
  {
   "cell_type": "code",
   "execution_count": 14,
   "metadata": {},
   "outputs": [
    {
     "name": "stdout",
     "output_type": "stream",
     "text": [
      "[3, 3, 2, 1]\n"
     ]
    }
   ],
   "source": [
    "#길이를 리스트로 넣어보기\n",
    "test = [\"유재석\", \"박명수\", \"유진\", \"손\"]\n",
    "\n",
    "test = [len(i) for i in test]\n",
    "print(test)"
   ]
  },
  {
   "cell_type": "code",
   "execution_count": 15,
   "metadata": {},
   "outputs": [
    {
     "name": "stdout",
     "output_type": "stream",
     "text": [
      "['TEST', 'POKEMON']\n"
     ]
    }
   ],
   "source": [
    "#대문자로 바꿔보기\n",
    "test_2 = [\"test\", \"pokemon\"]\n",
    "\n",
    "test_2 = [i.upper() for i in test_2]\n",
    "print(test_2)"
   ]
  },
  {
   "cell_type": "code",
   "execution_count": 20,
   "metadata": {},
   "outputs": [
    {
     "name": "stdout",
     "output_type": "stream",
     "text": [
      "[]1번째 손님 (소요시간 : 21분)\n",
      "[]2번째 손님 (소요시간 : 25분)\n",
      "[]3번째 손님 (소요시간 : 37분)\n",
      "[O]4번째 손님 (소요시간 : 5분)\n",
      "[]5번째 손님 (소요시간 : 24분)\n",
      "[]6번째 손님 (소요시간 : 28분)\n",
      "[]7번째 손님 (소요시간 : 31분)\n",
      "[O]8번째 손님 (소요시간 : 15분)\n",
      "[]9번째 손님 (소요시간 : 41분)\n",
      "[]10번째 손님 (소요시간 : 18분)\n",
      "[]11번째 손님 (소요시간 : 47분)\n",
      "[O]12번째 손님 (소요시간 : 8분)\n",
      "[]13번째 손님 (소요시간 : 35분)\n",
      "[]14번째 손님 (소요시간 : 43분)\n",
      "[]15번째 손님 (소요시간 : 24분)\n",
      "[]16번째 손님 (소요시간 : 44분)\n",
      "[O]17번째 손님 (소요시간 : 15분)\n",
      "[O]18번째 손님 (소요시간 : 14분)\n",
      "[O]19번째 손님 (소요시간 : 7분)\n",
      "[]20번째 손님 (소요시간 : 31분)\n",
      "[]21번째 손님 (소요시간 : 41분)\n",
      "[]22번째 손님 (소요시간 : 20분)\n",
      "[]23번째 손님 (소요시간 : 42분)\n",
      "[]24번째 손님 (소요시간 : 34분)\n",
      "[]25번째 손님 (소요시간 : 33분)\n",
      "[]26번째 손님 (소요시간 : 24분)\n",
      "[]27번째 손님 (소요시간 : 21분)\n",
      "[]28번째 손님 (소요시간 : 48분)\n",
      "[]29번째 손님 (소요시간 : 31분)\n",
      "[]30번째 손님 (소요시간 : 47분)\n",
      "[]31번째 손님 (소요시간 : 19분)\n",
      "[]32번째 손님 (소요시간 : 50분)\n",
      "[]33번째 손님 (소요시간 : 46분)\n",
      "[O]34번째 손님 (소요시간 : 6분)\n",
      "[]35번째 손님 (소요시간 : 17분)\n",
      "[O]36번째 손님 (소요시간 : 13분)\n",
      "[]37번째 손님 (소요시간 : 36분)\n",
      "[]38번째 손님 (소요시간 : 25분)\n",
      "[]39번째 손님 (소요시간 : 38분)\n",
      "[]40번째 손님 (소요시간 : 41분)\n",
      "[]41번째 손님 (소요시간 : 27분)\n",
      "[]42번째 손님 (소요시간 : 16분)\n",
      "[]43번째 손님 (소요시간 : 45분)\n",
      "[]44번째 손님 (소요시간 : 35분)\n",
      "[]45번째 손님 (소요시간 : 39분)\n",
      "[]46번째 손님 (소요시간 : 49분)\n",
      "[]47번째 손님 (소요시간 : 46분)\n",
      "[]48번째 손님 (소요시간 : 22분)\n",
      "[]49번째 손님 (소요시간 : 47분)\n",
      "[]50번째 손님 (소요시간 : 38분)\n",
      "--------------\n",
      "8명 태웠다.\n"
     ]
    }
   ],
   "source": [
    "# 퀴즈\n",
    "\n",
    "# 난 택시 기사고, 총 탑승 승객수를 구하는 프로그램제작\n",
    "\n",
    "# 조건1 승객별 운행 소요 시간은 5~10 분\n",
    "# 조건2 당신은 소요시간 5~15붐만 골라야한다\n",
    "\n",
    "# 출력 예제\n",
    "# [O]1번째 손님 (소요시간 : 15분)\n",
    "# []2번째 손님 (소요시간 : 50분)\n",
    "# [O]3번째 손님 (소요시간 : 15분)\n",
    "# ...\n",
    "# [O]50번째 손님 (소요시간 : 10분)\n",
    "\n",
    "# 총 탑승 승객: 2\n",
    "\n",
    "\n",
    "from random import *\n",
    "\n",
    "num = 0 # 총 탑승 승객 수\n",
    "\n",
    "for i in range(1,51): #1~50\n",
    "    time = randrange(5, 51) # 5~50분 소요되는 랜덤 함수\n",
    "    if time >= 5 and time <= 15:\n",
    "        print(f\"[O]{i}번째 손님 (소요시간 : {time}분)\")\n",
    "        num +=1\n",
    "    else:\n",
    "        print(f\"[]{i}번째 손님 (소요시간 : {time}분)\")\n",
    "print(\"--------------\")\n",
    "print(f\"{num}명 태웠다.\")"
   ]
  },
  {
   "cell_type": "code",
   "execution_count": null,
   "metadata": {},
   "outputs": [],
   "source": []
  }
 ],
 "metadata": {
  "kernelspec": {
   "display_name": "base",
   "language": "python",
   "name": "python3"
  },
  "language_info": {
   "codemirror_mode": {
    "name": "ipython",
    "version": 3
   },
   "file_extension": ".py",
   "mimetype": "text/x-python",
   "name": "python",
   "nbconvert_exporter": "python",
   "pygments_lexer": "ipython3",
   "version": "3.11.7"
  }
 },
 "nbformat": 4,
 "nbformat_minor": 2
}
