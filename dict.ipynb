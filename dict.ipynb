{
 "cells": [
  {
   "cell_type": "markdown",
   "metadata": {},
   "source": [
    "## Dictionary "
   ]
  },
  {
   "cell_type": "markdown",
   "metadata": {},
   "source": [
    "- key에 대한 중복을 허용하지 않는다"
   ]
  },
  {
   "cell_type": "code",
   "execution_count": 6,
   "metadata": {},
   "outputs": [
    {
     "name": "stdout",
     "output_type": "stream",
     "text": [
      "박명수\n",
      "유재석\n",
      "사용 가능\n"
     ]
    }
   ],
   "source": [
    "#key를 불러와\n",
    "\n",
    "cabinet = {3:\"유재석\", 10:\"박명수\", 15:\"정준하\"}\n",
    "\n",
    "print(cabinet[10]) #없는 값을 호출 시 에러\n",
    "print(cabinet.get(3))  # 없는 값을 호출 시 none \n",
    "print(cabinet.get(5, \"사용 가능\")) # 없는 값을 호출하면 뒤 텍스트를 뱉는다"
   ]
  },
  {
   "cell_type": "code",
   "execution_count": 8,
   "metadata": {},
   "outputs": [
    {
     "name": "stdout",
     "output_type": "stream",
     "text": [
      "True\n",
      "False\n"
     ]
    }
   ],
   "source": [
    "# bool 믄 확인\n",
    "\n",
    "print(3 in cabinet)\n",
    "print(5 in cabinet)"
   ]
  },
  {
   "cell_type": "code",
   "execution_count": 10,
   "metadata": {},
   "outputs": [
    {
     "name": "stdout",
     "output_type": "stream",
     "text": [
      "{3: '유재석', 10: '박명수', 15: '정준하'}\n",
      "{3: '유재석', 10: '박명수', 15: '정준하', 5: '노홍철'}\n"
     ]
    }
   ],
   "source": [
    "# 새로운 손님\n",
    "print(cabinet)\n",
    "# 값 추가\n",
    "cabinet[5] = \"노홍철\"\n",
    "\n",
    "print(cabinet)"
   ]
  },
  {
   "cell_type": "code",
   "execution_count": 11,
   "metadata": {},
   "outputs": [],
   "source": [
    "# 딕셔너리 키 삭제 \n",
    "\n",
    "del cabinet[5]"
   ]
  },
  {
   "cell_type": "code",
   "execution_count": 12,
   "metadata": {},
   "outputs": [
    {
     "name": "stdout",
     "output_type": "stream",
     "text": [
      "{3: '유재석', 10: '박명수', 15: '정준하'}\n"
     ]
    }
   ],
   "source": [
    "print(cabinet)"
   ]
  },
  {
   "cell_type": "code",
   "execution_count": 15,
   "metadata": {},
   "outputs": [
    {
     "name": "stdout",
     "output_type": "stream",
     "text": [
      "dict_keys([3, 10, 15])\n",
      "dict_values(['유재석', '박명수', '정준하'])\n",
      "dict_items([(3, '유재석'), (10, '박명수'), (15, '정준하')])\n"
     ]
    }
   ],
   "source": [
    "# 출력\n",
    "print(cabinet.keys()) # key들만 출력\n",
    "\n",
    "print(cabinet.values()) # value만 출력\n",
    "\n",
    "print(cabinet.items()) #key, value 모두"
   ]
  },
  {
   "cell_type": "code",
   "execution_count": null,
   "metadata": {},
   "outputs": [],
   "source": []
  },
  {
   "cell_type": "code",
   "execution_count": null,
   "metadata": {},
   "outputs": [],
   "source": []
  },
  {
   "cell_type": "code",
   "execution_count": null,
   "metadata": {},
   "outputs": [],
   "source": []
  },
  {
   "cell_type": "code",
   "execution_count": null,
   "metadata": {},
   "outputs": [],
   "source": []
  },
  {
   "cell_type": "code",
   "execution_count": null,
   "metadata": {},
   "outputs": [],
   "source": []
  }
 ],
 "metadata": {
  "kernelspec": {
   "display_name": "base",
   "language": "python",
   "name": "python3"
  },
  "language_info": {
   "codemirror_mode": {
    "name": "ipython",
    "version": 3
   },
   "file_extension": ".py",
   "mimetype": "text/x-python",
   "name": "python",
   "nbconvert_exporter": "python",
   "pygments_lexer": "ipython3",
   "version": "3.11.7"
  }
 },
 "nbformat": 4,
 "nbformat_minor": 2
}
