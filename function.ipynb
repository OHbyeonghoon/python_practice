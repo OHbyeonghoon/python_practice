{
 "cells": [
  {
   "cell_type": "markdown",
   "metadata": {},
   "source": [
    "## 함수"
   ]
  },
  {
   "cell_type": "code",
   "execution_count": 2,
   "metadata": {},
   "outputs": [
    {
     "name": "stdout",
     "output_type": "stream",
     "text": [
      "새 계좌\n"
     ]
    }
   ],
   "source": [
    "#함수 정의\n",
    "\n",
    "def open_account():\n",
    "    print(\"새 계좌\")\n",
    "\n",
    "\n",
    "open_account()"
   ]
  },
  {
   "cell_type": "markdown",
   "metadata": {},
   "source": [
    "### 전달값과 반환값"
   ]
  },
  {
   "cell_type": "code",
   "execution_count": 3,
   "metadata": {},
   "outputs": [],
   "source": [
    "def deposit(balance, money):\n",
    "    print(f\"입금완료, 잔액{balance + money}원\")\n",
    "    return balance+money #반환하기 위해 return 사용"
   ]
  },
  {
   "cell_type": "code",
   "execution_count": 4,
   "metadata": {},
   "outputs": [
    {
     "name": "stdout",
     "output_type": "stream",
     "text": [
      "입금완료, 잔액1000원\n",
      "1000\n"
     ]
    }
   ],
   "source": [
    "#위 함수 사용\n",
    "balance = 0\n",
    "balance = deposit(balance, 1000)\n",
    "print(balance)"
   ]
  },
  {
   "cell_type": "code",
   "execution_count": 7,
   "metadata": {},
   "outputs": [
    {
     "name": "stdout",
     "output_type": "stream",
     "text": [
      "출금 완료 되었습니다. 잔액은500원 입니다\n"
     ]
    }
   ],
   "source": [
    "#출금함수\n",
    "\n",
    "def withdraw(balance, money):\n",
    "    if balance >= money:\n",
    "        print(f\"출금 완료 되었습니다. 잔액은{balance - money}원 입니다\")\n",
    "        return balance - money\n",
    "    else: \n",
    "        print(f\"출금불가, 잔액이 {balance}원이고, 출금하려는 {money} 보다 적습니다.\")\n",
    "        return balance\n",
    "\n",
    "balance = withdraw(balance, 500)\n"
   ]
  },
  {
   "cell_type": "code",
   "execution_count": 8,
   "metadata": {},
   "outputs": [
    {
     "name": "stdout",
     "output_type": "stream",
     "text": [
      "수수료, 100원, 잔액 300이다\n"
     ]
    }
   ],
   "source": [
    "#심야 출근\n",
    "\n",
    "def withdraw_night(balance, money): #심야 출금\n",
    "    commission = 100 #수수료\n",
    "    return commission, balance - money - commission\n",
    "\n",
    "commission, balance = withdraw_night(balance, 100)\n",
    "\n",
    "print(f\"수수료, {commission}원, 잔액 {balance}이다\")"
   ]
  },
  {
   "cell_type": "markdown",
   "metadata": {},
   "source": [
    "## 함수 기본값 설정"
   ]
  },
  {
   "cell_type": "code",
   "execution_count": 10,
   "metadata": {},
   "outputs": [
    {
     "name": "stdout",
     "output_type": "stream",
     "text": [
      "이름 : 오병훈\t나이 : 100\t 사용언어: sql\n"
     ]
    }
   ],
   "source": [
    "def profile(name, age, main_lang):\n",
    "    print(f\"이름 : {name}\\t나이 : {age}\\t 사용언어: {main_lang}\")\n",
    "\n",
    "\n",
    "profile(\"오병훈\", 100, \"sql\")"
   ]
  },
  {
   "cell_type": "code",
   "execution_count": 11,
   "metadata": {},
   "outputs": [
    {
     "name": "stdout",
     "output_type": "stream",
     "text": [
      "이름 : 유재석\t나이 : 50\t 사용언어: sql\n"
     ]
    }
   ],
   "source": [
    "# 위 함수 중 불필요한 값을 적어줄 필요가 없을떄\n",
    "\n",
    "\n",
    "def profile(name, age=50, main_lang=\"sql\"):\n",
    "    print(f\"이름 : {name}\\t나이 : {age}\\t 사용언어: {main_lang}\")\n",
    "\n",
    "profile(\"유재석\")"
   ]
  },
  {
   "cell_type": "markdown",
   "metadata": {},
   "source": [
    "## 키워드값\n",
    "\n",
    "- 키워드를 통한 함수 호출"
   ]
  },
  {
   "cell_type": "code",
   "execution_count": 12,
   "metadata": {},
   "outputs": [
    {
     "name": "stdout",
     "output_type": "stream",
     "text": [
      "dhqudgns 2324 java\n"
     ]
    }
   ],
   "source": [
    "def profile(name, age, main_lang):\n",
    "    print(name, age, main_lang)\n",
    "\n",
    "#키워드를 통한 호출\n",
    "\n",
    "profile(name = \"dhqudgns\", main_lang = \"java\", age = 2324)"
   ]
  },
  {
   "cell_type": "markdown",
   "metadata": {},
   "source": [
    "## 가변인자\n",
    "\n",
    "- 가변인자를 통한 함수 호출"
   ]
  },
  {
   "cell_type": "code",
   "execution_count": 14,
   "metadata": {},
   "outputs": [
    {
     "name": "stdout",
     "output_type": "stream",
     "text": [
      "이름 ez, 나이 50pt sql ja\n",
      "이름 ez, 나이 40pt kot \n"
     ]
    }
   ],
   "source": [
    "def profile(name, age, lang_1, lang_2, lang_3):\n",
    "    print(f\"이름 {name}, 나이 {age}\", end = \"\")\n",
    "    print(lang_1, lang_2, lang_3)\n",
    "\n",
    "profile(\"ez\", 50, \"pt\", \"sql\", \"ja\")\n",
    "\n",
    "profile(\"ez\", 40, \"pt\", \"kot\", \"\")\n",
    "\n",
    "#값이 늘어나면 함수를 바꿔줘야하는 불편함이 있다"
   ]
  },
  {
   "cell_type": "code",
   "execution_count": 15,
   "metadata": {},
   "outputs": [
    {
     "name": "stdout",
     "output_type": "stream",
     "text": [
      "이름 ez, 나이 40('pt', 'kot') ('pt', 'kot') \n"
     ]
    }
   ],
   "source": [
    "#가변 인자 도입 시\n",
    "\n",
    "def profile(name, age, *lang):\n",
    "    print(f\"이름 {name}, 나이 {age}\", end = \"\")\n",
    "    for la in lang:\n",
    "        print(lang, end =\" \")\n",
    "    print()\n",
    "\n",
    "profile(\"ez\", 40, \"pt\", \"kot\")"
   ]
  },
  {
   "cell_type": "markdown",
   "metadata": {},
   "source": [
    "## 지역변수, 전역변수\n",
    "\n",
    "- 함수 내에서만 사용할 수 있는건 지역변수\n",
    "- 프로그램 전체에서 부를 수 있는 전역변수"
   ]
  },
  {
   "cell_type": "code",
   "execution_count": 19,
   "metadata": {},
   "outputs": [
    {
     "name": "stdout",
     "output_type": "stream",
     "text": [
      "전체 총: 10\n",
      "[함수 내] 남은 총 : 8\n",
      "남은 총: 8\n"
     ]
    }
   ],
   "source": [
    "gun = 10\n",
    "\n",
    "def checkpoint(soldiers): #근무\n",
    "    global gun # 전역변수를 checkpoint 함수내에서 사용하겠다!!\n",
    "    gun = gun-soldiers\n",
    "    print(f\"[함수 내] 남은 총 : {gun}\")\n",
    "\n",
    "\n",
    "print(f\"전체 총: {gun}\")\n",
    "checkpoint(2)\n",
    "print(f\"남은 총: {gun}\")\n",
    "# 오류 나는 이유는 밖에서 gun을 지정 해줬기 때문에 함수 안의 전역 변수를 사용\n",
    "#global 인자를 사용해서 변수를 가져와야함\n",
    "#일반적으로 많이 쓰지는 않음, 복잡하잖아..."
   ]
  },
  {
   "cell_type": "code",
   "execution_count": 20,
   "metadata": {},
   "outputs": [
    {
     "name": "stdout",
     "output_type": "stream",
     "text": [
      "[함수 내] 남은 총 : 6\n"
     ]
    }
   ],
   "source": [
    "def checkpoint_ret(gun, soldiers):\n",
    "    gun = gun-soldiers\n",
    "    print(f\"[함수 내] 남은 총 : {gun}\")\n",
    "    return gun\n",
    "\n",
    "gun = checkpoint_ret(gun,2)"
   ]
  },
  {
   "cell_type": "markdown",
   "metadata": {},
   "source": [
    "### 퀴즈"
   ]
  },
  {
   "cell_type": "code",
   "execution_count": 26,
   "metadata": {},
   "outputs": [
    {
     "name": "stdout",
     "output_type": "stream",
     "text": [
      "키 175 남자의 표준 체중은 67.38kg 입니다\n"
     ]
    }
   ],
   "source": [
    "# 표준 체중을 구하는 프로그램 작성\n",
    "\n",
    "# - 표준 체중 : 각개인의 키에 적당한 체중\n",
    "\n",
    "# - 성별 공식\n",
    "#     - 남자 : 키(m) * 키(m) * 22\n",
    "#     - 여자 : 키(m) * 키(m) * 11\n",
    "\n",
    "# 조건 1 : 표준 체중은 별도의 함수내에서 계산\n",
    "#     - 함수명 : std_weight\n",
    "#     - 전달값 : 키(height), 성별(gen)\n",
    "# 조건 2 : 표준 체중은 소수점 둘째자리까지 표기\n",
    "\n",
    "# 출력 예제 \n",
    "\n",
    "# 키 175cm 남자의 표준 체중은 67.38kg 입니다\n",
    "\n",
    "\n",
    "def std_weight(height, gen):\n",
    "    if gen ==\"남자\":\n",
    "        return round((height/100) * (height/100) * 22,2 )\n",
    "    elif gen == \"여자\":\n",
    "        return round((height/100) * (height/100) * 21,2)\n",
    "\n",
    "height = 175\n",
    "gender = \"남자\"\n",
    "weight = std_weight(height, gender)\n",
    "\n",
    "print(f\"키 {height} 남자의 표준 체중은 {weight}kg 입니다\")"
   ]
  },
  {
   "cell_type": "code",
   "execution_count": null,
   "metadata": {},
   "outputs": [],
   "source": []
  }
 ],
 "metadata": {
  "kernelspec": {
   "display_name": "base",
   "language": "python",
   "name": "python3"
  },
  "language_info": {
   "codemirror_mode": {
    "name": "ipython",
    "version": 3
   },
   "file_extension": ".py",
   "mimetype": "text/x-python",
   "name": "python",
   "nbconvert_exporter": "python",
   "pygments_lexer": "ipython3",
   "version": "3.11.7"
  }
 },
 "nbformat": 4,
 "nbformat_minor": 2
}
