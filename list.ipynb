{
 "cells": [
  {
   "cell_type": "markdown",
   "metadata": {},
   "source": [
    "## 리스트"
   ]
  },
  {
   "cell_type": "markdown",
   "metadata": {},
   "source": [
    "- []\n",
    "- 순서를 따지는 객체의 집합\n",
    "- 리스트는 자료형의 구애받지 않는다"
   ]
  },
  {
   "cell_type": "code",
   "execution_count": 1,
   "metadata": {},
   "outputs": [
    {
     "name": "stdout",
     "output_type": "stream",
     "text": [
      "[10, 20, 30]\n"
     ]
    }
   ],
   "source": [
    "subway = [10,20,30]\n",
    "\n",
    "print(subway)"
   ]
  },
  {
   "cell_type": "code",
   "execution_count": 3,
   "metadata": {},
   "outputs": [
    {
     "name": "stdout",
     "output_type": "stream",
     "text": [
      "['오병훈', '유재석', '아무개']\n"
     ]
    }
   ],
   "source": [
    "subway_p = [\"오병훈\", \"유재석\", \"아무개\"]\n",
    "print(subway_p)"
   ]
  },
  {
   "cell_type": "code",
   "execution_count": 5,
   "metadata": {},
   "outputs": [
    {
     "name": "stdout",
     "output_type": "stream",
     "text": [
      "0\n",
      "2\n"
     ]
    }
   ],
   "source": [
    "#누가 몇번쩨에 있는가?\n",
    "\n",
    "print(subway_p.index(\"오병훈\"))\n",
    "print(subway_p.index(\"아무개\"))"
   ]
  },
  {
   "cell_type": "code",
   "execution_count": 6,
   "metadata": {},
   "outputs": [],
   "source": [
    "#리스트에 인원 추가\n",
    "subway_p.append(\"오씨오\")"
   ]
  },
  {
   "cell_type": "code",
   "execution_count": 8,
   "metadata": {},
   "outputs": [
    {
     "name": "stdout",
     "output_type": "stream",
     "text": [
      "['오병훈', '유재석', '아무개', '오씨오']\n"
     ]
    }
   ],
   "source": [
    "subway_p\n",
    "print(subway_p)"
   ]
  },
  {
   "cell_type": "code",
   "execution_count": 10,
   "metadata": {},
   "outputs": [
    {
     "name": "stdout",
     "output_type": "stream",
     "text": [
      "['오병훈', '유재석', '정형돈', '정형돈', '아무개', '오씨오']\n"
     ]
    }
   ],
   "source": [
    "#유재석과 아무개 사이에 넣어보겠다 insert\n",
    "subway_p.insert(2, \"정형돈\")\n",
    "print(subway_p)\n"
   ]
  },
  {
   "cell_type": "code",
   "execution_count": 11,
   "metadata": {},
   "outputs": [
    {
     "name": "stdout",
     "output_type": "stream",
     "text": [
      "오씨오\n",
      "['오병훈', '유재석', '정형돈', '정형돈', '아무개']\n"
     ]
    }
   ],
   "source": [
    "# 맨뒤 한명 내보내기 \n",
    "\n",
    "print(subway_p.pop())\n",
    "print(subway_p)"
   ]
  },
  {
   "cell_type": "code",
   "execution_count": 13,
   "metadata": {},
   "outputs": [
    {
     "name": "stdout",
     "output_type": "stream",
     "text": [
      "1\n"
     ]
    }
   ],
   "source": [
    "#같은 사람의 인원이 몇명있는지 확인하기\n",
    "print(subway_p.count(\"오병훈\"))"
   ]
  },
  {
   "cell_type": "code",
   "execution_count": 14,
   "metadata": {},
   "outputs": [
    {
     "name": "stdout",
     "output_type": "stream",
     "text": [
      "[1, 23, 123, 3525, 6060]\n"
     ]
    }
   ],
   "source": [
    "#정렬 \n",
    "num_list = [1,23,3525, 6060,123]\n",
    "\n",
    "num_list.sort()\n",
    "\n",
    "print(num_list)"
   ]
  },
  {
   "cell_type": "code",
   "execution_count": 15,
   "metadata": {},
   "outputs": [
    {
     "name": "stdout",
     "output_type": "stream",
     "text": [
      "[6060, 3525, 123, 23, 1]\n"
     ]
    }
   ],
   "source": [
    "#오름차순 정렬\n",
    "num_list.reverse()\n",
    "print(num_list)"
   ]
  },
  {
   "cell_type": "code",
   "execution_count": 16,
   "metadata": {},
   "outputs": [
    {
     "name": "stdout",
     "output_type": "stream",
     "text": [
      "[]\n"
     ]
    }
   ],
   "source": [
    "#리스트 지우기\n",
    "num_list.clear()\n",
    "\n",
    "print(num_list)"
   ]
  },
  {
   "cell_type": "code",
   "execution_count": 17,
   "metadata": {},
   "outputs": [],
   "source": [
    "#리스트 안에 여러 자료형 섞어보기\n",
    "mix_list = [1,\"오병훈\", True]"
   ]
  },
  {
   "cell_type": "code",
   "execution_count": 18,
   "metadata": {},
   "outputs": [
    {
     "name": "stdout",
     "output_type": "stream",
     "text": [
      "[1, '오병훈', True]\n"
     ]
    }
   ],
   "source": [
    "print(mix_list)"
   ]
  },
  {
   "cell_type": "code",
   "execution_count": 20,
   "metadata": {},
   "outputs": [
    {
     "name": "stdout",
     "output_type": "stream",
     "text": [
      "[1, '오병훈', True, 1, '오병훈', True]\n"
     ]
    }
   ],
   "source": [
    "#리스트 확장\n",
    "\n",
    "num_list.extend(mix_list)\n",
    "\n",
    "print(num_list)"
   ]
  },
  {
   "cell_type": "code",
   "execution_count": null,
   "metadata": {},
   "outputs": [],
   "source": []
  },
  {
   "cell_type": "code",
   "execution_count": null,
   "metadata": {},
   "outputs": [],
   "source": []
  }
 ],
 "metadata": {
  "kernelspec": {
   "display_name": "base",
   "language": "python",
   "name": "python3"
  },
  "language_info": {
   "codemirror_mode": {
    "name": "ipython",
    "version": 3
   },
   "file_extension": ".py",
   "mimetype": "text/x-python",
   "name": "python",
   "nbconvert_exporter": "python",
   "pygments_lexer": "ipython3",
   "version": "3.11.7"
  }
 },
 "nbformat": 4,
 "nbformat_minor": 2
}
