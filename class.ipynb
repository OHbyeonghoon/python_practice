{
 "cells": [
  {
   "cell_type": "markdown",
   "metadata": {},
   "source": [
    "## Class"
   ]
  },
  {
   "cell_type": "markdown",
   "metadata": {},
   "source": [
    "- 함수가 많아진다면..?\n",
    "- 붕어빵 기계 처럼 재료에를 맞게 준다면 원하는 출력값이 나온다 생각하자"
   ]
  },
  {
   "cell_type": "code",
   "execution_count": 1,
   "metadata": {},
   "outputs": [],
   "source": [
    "class unit:\n",
    "    def __init__(self, name,hp,damage):\n",
    "        self.name = name\n",
    "        self.hp = hp\n",
    "        self.damage = damage\n",
    "        print(f\"{name} 유닛 생성\")\n",
    "        print(f\"체력 {hp}, 공격력 {damage}\")"
   ]
  },
  {
   "cell_type": "code",
   "execution_count": 2,
   "metadata": {},
   "outputs": [
    {
     "name": "stdout",
     "output_type": "stream",
     "text": [
      "마린 유닛 생성\n",
      "체력 40, 공격력 5\n",
      "마린 유닛 생성\n",
      "체력 40, 공격력 5\n",
      "탱크 유닛 생성\n",
      "체력 150, 공격력 35\n"
     ]
    }
   ],
   "source": [
    "marine1 = unit(\"마린\",40,5)\n",
    "marine2 = unit(\"마린\",40,5)\n",
    "tank = unit(\"탱크\", 150, 35)"
   ]
  },
  {
   "cell_type": "markdown",
   "metadata": {},
   "source": [
    "## __init__"
   ]
  },
  {
   "cell_type": "markdown",
   "metadata": {},
   "source": [
    "- 파이썬에서 쓰이는 생성자\n",
    "- 객체가 만들어질때 자동으로 생성되는 부분\n",
    "- init 함수에 정의된 수 만큼 넣어줘야함"
   ]
  },
  {
   "cell_type": "markdown",
   "metadata": {},
   "source": [
    "### 멤버 변수"
   ]
  },
  {
   "cell_type": "markdown",
   "metadata": {},
   "source": [
    "- 클래스 안에 들어간 변수들을 멤버 변수라고함 \n",
    "- 클래스 밖에서 기존 변수를 사용할 수 있다\n",
    "- 클래스 안에서 이미 지정된 이상, 클래스 밖에서 다른 변수를 생성해서 확인 할 수 없다"
   ]
  },
  {
   "cell_type": "code",
   "execution_count": 3,
   "metadata": {},
   "outputs": [
    {
     "name": "stdout",
     "output_type": "stream",
     "text": [
      "레이스 유닛 생성\n",
      "체력 80, 공격력 5\n"
     ]
    }
   ],
   "source": [
    "#ex\n",
    "#레이스\n",
    "wraith = unit(\"레이스\", 80, 5)"
   ]
  },
  {
   "cell_type": "code",
   "execution_count": 4,
   "metadata": {},
   "outputs": [
    {
     "name": "stdout",
     "output_type": "stream",
     "text": [
      "유닛이름: 레이스\n"
     ]
    }
   ],
   "source": [
    "print(f\"유닛이름: {wraith.name}\") \n",
    "# 위와 같이 class에 지정 되어있어도, 객체를 호출해서 사용할 수 있다"
   ]
  },
  {
   "cell_type": "markdown",
   "metadata": {},
   "source": [
    "### 메소드"
   ]
  },
  {
   "cell_type": "code",
   "execution_count": 5,
   "metadata": {},
   "outputs": [],
   "source": [
    "class unit:\n",
    "    def __init__(self, name,hp,damage):\n",
    "        self.name = name\n",
    "        self.hp = hp\n",
    "        self.damage = damage\n",
    "        print(f\"{name} 유닛 생성\")\n",
    "        print(f\"체력 {hp}, 공격력 {damage}\")\n",
    "\n",
    "\n",
    "#공격 유닛\n",
    "class attack_unit:\n",
    "    def __init__(self, name, hp, damage):\n",
    "        self.name = name\n",
    "        self.hp = hp\n",
    "        self.damage = damage\n",
    "    \n",
    "    def attack(self, location):\n",
    "        print(f\"{self.name}:{location} 방향으로 적군을 공격, 공격력{self.damage} \")\n",
    "\n",
    "\n",
    "    def damaged(self, damage):\n",
    "        print(f\"{self.name}:{damage} 데미지를 입었습니다\")    \n",
    "        self.hp -= damage\n",
    "        print(f\"{self.name} :현재 체력 {self.hp}\")\n",
    "        if self.hp <= 0:\n",
    "            print(f\"{self.name} 파괴\")\n",
    "\n"
   ]
  },
  {
   "cell_type": "code",
   "execution_count": 6,
   "metadata": {},
   "outputs": [
    {
     "name": "stdout",
     "output_type": "stream",
     "text": [
      "파이어뱃:5시 방향으로 적군을 공격, 공격력16 \n",
      "파이어뱃:25 데미지를 입었습니다\n",
      "파이어뱃 :현재 체력 25\n",
      "파이어뱃:30 데미지를 입었습니다\n",
      "파이어뱃 :현재 체력 -5\n",
      "파이어뱃 파괴\n"
     ]
    }
   ],
   "source": [
    "#시나리오 가정\n",
    "firebat_1 = attack_unit(\"파이어뱃\", 50, 16)\n",
    "firebat_1.attack(\"5시\")\n",
    "firebat_1.damaged(25)\n",
    "firebat_1.damaged(30)"
   ]
  },
  {
   "cell_type": "markdown",
   "metadata": {},
   "source": [
    "## 다중상속"
   ]
  },
  {
   "cell_type": "markdown",
   "metadata": {},
   "source": [
    "- 부모 class를 2개이상 상속 받는 것\n",
    "- 위 예제를 들면 unit 이 부모 class, attack_unit이 자식 class"
   ]
  },
  {
   "cell_type": "code",
   "execution_count": null,
   "metadata": {},
   "outputs": [],
   "source": [
    "class unit:\n",
    "    def __init__(self, name,hp,damage):\n",
    "        self.name = name\n",
    "        self.hp = hp\n",
    "        print(f\"{name} 유닛 생성\")\n",
    "\n",
    "\n",
    "#공격 유닛\n",
    "class attack_unit:\n",
    "    def __init__(self, name, hp, damage):\n",
    "        unit.__init__(self, name, hp)\n",
    "        self.damage = damage\n",
    "    \n",
    "    def attack(self, location):\n",
    "        print(f\"{self.name}:{location} 방향으로 적군을 공격, 공격력{self.damage} \")\n",
    "\n",
    "\n",
    "    def damaged(self, damage):\n",
    "        print(f\"{self.name}:{damage} 데미지를 입었습니다\")    \n",
    "        self.hp -= damage\n",
    "        print(f\"{self.name} :현재 체력 {self.hp}\")\n",
    "        if self.hp <= 0:\n",
    "            print(f\"{self.name} 파괴\")\n",
    "\n",
    "\n"
   ]
  },
  {
   "cell_type": "code",
   "execution_count": 10,
   "metadata": {},
   "outputs": [
    {
     "name": "stdout",
     "output_type": "stream",
     "text": [
      "발키리, 3시 방향으로 날아감, 속도 10\n"
     ]
    }
   ],
   "source": [
    "#공격 유닛이 아닌 경우 예제를 들어보자\n",
    "#예를들면 드랍쉽\n",
    "\n",
    "class flyable:\n",
    "    def __init__(self, flying_speed):\n",
    "        self.flying_speed = flying_speed\n",
    "\n",
    "    def fly(self, name, location):\n",
    "        print(f\"{name}, {location} 방향으로 날아감, 속도 {self.flying_speed}\")\n",
    "\n",
    "\n",
    "# 공중 공격 유닛 클래스\n",
    "class flyable_attack_unit(attack_unit, flyable):\n",
    "    def __init__(self, name, hp, damage, flying_speed):\n",
    "        attack_unit.__init__(self, name, hp, damage)\n",
    "        flyable.__init__(self, flying_speed)\n",
    "\n",
    "# 발키리\n",
    "valkyrie = flyable_attack_unit(\"발키리\", 200, 6, 10)\n",
    "valkyrie.fly(valkyrie.name, \"3시\")\n"
   ]
  },
  {
   "cell_type": "code",
   "execution_count": null,
   "metadata": {},
   "outputs": [],
   "source": []
  },
  {
   "cell_type": "code",
   "execution_count": null,
   "metadata": {},
   "outputs": [],
   "source": []
  }
 ],
 "metadata": {
  "kernelspec": {
   "display_name": "base",
   "language": "python",
   "name": "python3"
  },
  "language_info": {
   "codemirror_mode": {
    "name": "ipython",
    "version": 3
   },
   "file_extension": ".py",
   "mimetype": "text/x-python",
   "name": "python",
   "nbconvert_exporter": "python",
   "pygments_lexer": "ipython3",
   "version": "3.11.7"
  }
 },
 "nbformat": 4,
 "nbformat_minor": 2
}
