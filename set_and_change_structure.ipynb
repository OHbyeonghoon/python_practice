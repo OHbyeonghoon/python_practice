{
 "cells": [
  {
   "cell_type": "markdown",
   "metadata": {},
   "source": [
    " ## SET (집합)"
   ]
  },
  {
   "cell_type": "markdown",
   "metadata": {},
   "source": [
    "- 중복 X\n",
    "- 순서 X"
   ]
  },
  {
   "cell_type": "code",
   "execution_count": 1,
   "metadata": {},
   "outputs": [
    {
     "name": "stdout",
     "output_type": "stream",
     "text": [
      "{1, 2, 3, 4, 5, 6}\n"
     ]
    }
   ],
   "source": [
    "my_set = {1,2,3,4,5,6,6,6,6}\n",
    "\n",
    "print(my_set)"
   ]
  },
  {
   "cell_type": "code",
   "execution_count": 2,
   "metadata": {},
   "outputs": [],
   "source": [
    "python = {\"유재석\", \"박명수\", \"정준하\"}\n",
    "\n",
    "java = set([\"노홍철\", \"유재석\"])"
   ]
  },
  {
   "cell_type": "code",
   "execution_count": 3,
   "metadata": {},
   "outputs": [
    {
     "name": "stdout",
     "output_type": "stream",
     "text": [
      "{'유재석'}\n",
      "{'유재석'}\n"
     ]
    }
   ],
   "source": [
    "# 교집합\n",
    "print(java & python)\n",
    "print(java.intersection(python))"
   ]
  },
  {
   "cell_type": "code",
   "execution_count": 5,
   "metadata": {},
   "outputs": [
    {
     "name": "stdout",
     "output_type": "stream",
     "text": [
      "{'유재석', '정준하', '박명수', '노홍철'}\n",
      "{'유재석', '정준하', '박명수', '노홍철'}\n"
     ]
    }
   ],
   "source": [
    "#합집합\n",
    "print(java | python)\n",
    "print(java.union(python))"
   ]
  },
  {
   "cell_type": "code",
   "execution_count": 7,
   "metadata": {},
   "outputs": [
    {
     "name": "stdout",
     "output_type": "stream",
     "text": [
      "{'노홍철'}\n",
      "{'노홍철'}\n"
     ]
    }
   ],
   "source": [
    "#차집합 (java는 할줄 알지만 python은 불가)\n",
    "print(java - python)\n",
    "print(java.difference(python))"
   ]
  },
  {
   "cell_type": "code",
   "execution_count": 8,
   "metadata": {},
   "outputs": [
    {
     "name": "stdout",
     "output_type": "stream",
     "text": [
      "{'정준하', '박명수', '정형돈', '유재석'}\n"
     ]
    }
   ],
   "source": [
    "#python 할줄 아는 사람이 늘어났다면\n",
    "python.add(\"정형돈\")\n",
    "print(python)"
   ]
  },
  {
   "cell_type": "code",
   "execution_count": 9,
   "metadata": {},
   "outputs": [
    {
     "name": "stdout",
     "output_type": "stream",
     "text": [
      "{'노홍철'}\n"
     ]
    }
   ],
   "source": [
    "# set에서 값 제외\n",
    "java.remove(\"유재석\")\n",
    "print(java)"
   ]
  },
  {
   "cell_type": "markdown",
   "metadata": {},
   "source": [
    "## 자료구조 변경"
   ]
  },
  {
   "cell_type": "code",
   "execution_count": 1,
   "metadata": {},
   "outputs": [
    {
     "name": "stdout",
     "output_type": "stream",
     "text": [
      "{'커피', '두유', '우유'} <class 'set'>\n"
     ]
    }
   ],
   "source": [
    "#기존 집합이였던 자료구조를 list나 tuple로 변경\n",
    "\n",
    "menu = {'두유', \"우유\", \"커피\"}\n",
    "print(menu, type(menu))"
   ]
  },
  {
   "cell_type": "code",
   "execution_count": 2,
   "metadata": {},
   "outputs": [
    {
     "name": "stdout",
     "output_type": "stream",
     "text": [
      "['커피', '두유', '우유'] <class 'list'>\n"
     ]
    }
   ],
   "source": [
    "#list 변경\n",
    "menu = list(menu)\n",
    "print(menu, type(menu))"
   ]
  },
  {
   "cell_type": "code",
   "execution_count": 4,
   "metadata": {},
   "outputs": [
    {
     "name": "stdout",
     "output_type": "stream",
     "text": [
      "('커피', '두유', '우유') <class 'tuple'>\n"
     ]
    }
   ],
   "source": [
    "#tuple 변경\n",
    "menu = tuple(menu)\n",
    "print(menu, type(menu))"
   ]
  },
  {
   "cell_type": "markdown",
   "metadata": {},
   "source": [
    "### quiz"
   ]
  },
  {
   "cell_type": "code",
   "execution_count": 6,
   "metadata": {},
   "outputs": [
    {
     "name": "stdout",
     "output_type": "stream",
     "text": [
      "[1, 2, 3, 4, 5]\n",
      "[5, 1, 2, 3, 4]\n",
      "[3]\n"
     ]
    }
   ],
   "source": [
    "# '''\n",
    "#     학교에서 코딩 대회 주최\n",
    "#     참석률 높이기 위해 댓글 이벤트 진행\n",
    "#     댓글 작성자들 중 추첨을 통해 1명은 치킨, 3명은 커피 쿠폰\n",
    "\n",
    "#     조건1 편의상 댓글이 20명이 작성하였고, 아이디는 1~20이라고 가정\n",
    "#     조건2 댓글 내용과 상관없이 무작위로 추첨, 중복은 불가\n",
    "#     조건3 random 모듈의 shuffle 과 sample 활용\n",
    "\n",
    "\n",
    "# '''\n",
    "\n",
    "from random import *\n",
    "\n",
    "lst = [1,2,3,4,5]\n",
    "\n",
    "print(lst)\n",
    "\n",
    "shuffle(lst)\n",
    "print(lst)\n",
    "print(sample(lst,1))"
   ]
  },
  {
   "cell_type": "code",
   "execution_count": 7,
   "metadata": {},
   "outputs": [],
   "source": [
    "user_id = list(range(1,21)) #1 부터 20 까지 숫자 생성"
   ]
  },
  {
   "cell_type": "code",
   "execution_count": 10,
   "metadata": {},
   "outputs": [
    {
     "name": "stdout",
     "output_type": "stream",
     "text": [
      "[10, 4, 3, 13, 17, 9, 18, 14, 11, 16, 20, 5, 1, 8, 2, 6, 12, 7, 19, 15]\n",
      " -- 당첨자 발표 -- \n",
      "치킨: 18\n",
      "커피: [1, 9, 16]\n"
     ]
    }
   ],
   "source": [
    "# print(type(user_id), user_id)\n",
    "\n",
    "shuffle(user_id)\n",
    "print(user_id)\n",
    "\n",
    "winners = sample(user_id, 4)\n",
    "\n",
    "print(\" -- 당첨자 발표 -- \")\n",
    "print(f\"치킨: {winners[0]}\")\n",
    "print(f\"커피: {winners[1:]}\")"
   ]
  },
  {
   "cell_type": "code",
   "execution_count": null,
   "metadata": {},
   "outputs": [],
   "source": []
  }
 ],
 "metadata": {
  "kernelspec": {
   "display_name": "base",
   "language": "python",
   "name": "python3"
  },
  "language_info": {
   "codemirror_mode": {
    "name": "ipython",
    "version": 3
   },
   "file_extension": ".py",
   "mimetype": "text/x-python",
   "name": "python",
   "nbconvert_exporter": "python",
   "pygments_lexer": "ipython3",
   "version": "3.11.7"
  }
 },
 "nbformat": 4,
 "nbformat_minor": 2
}
