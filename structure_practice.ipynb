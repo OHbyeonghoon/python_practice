{
 "cells": [
  {
   "cell_type": "markdown",
   "metadata": {},
   "source": [
    "## 자료형, 숫자형 받아쓰기"
   ]
  },
  {
   "cell_type": "markdown",
   "metadata": {},
   "source": []
  },
  {
   "cell_type": "code",
   "execution_count": 3,
   "metadata": {},
   "outputs": [
    {
     "name": "stdout",
     "output_type": "stream",
     "text": [
      "5\n",
      "10\n",
      "-3.14\n"
     ]
    }
   ],
   "source": [
    "print(5)\n",
    "print(10)\n",
    "print(-3.14\n",
    ")"
   ]
  },
  {
   "cell_type": "code",
   "execution_count": 8,
   "metadata": {},
   "outputs": [
    {
     "name": "stdout",
     "output_type": "stream",
     "text": [
      "coffe\n",
      "10+12\n",
      "False\n"
     ]
    }
   ],
   "source": [
    "print('coffe')\n",
    "a=10\n",
    "b = 12\n",
    "print(f'{a}+{b}')\n",
    "\n",
    "print(5>10)"
   ]
  },
  {
   "cell_type": "code",
   "execution_count": 11,
   "metadata": {},
   "outputs": [
    {
     "name": "stdout",
     "output_type": "stream",
     "text": [
      "병훈지금 공부 중임\n",
      "나는 지금notebook중임\n",
      "나는 지금30인데 공부 중임\n",
      "나는 지금 공부 중인가? True\n"
     ]
    }
   ],
   "source": [
    "#변수\n",
    "#정수나 숫자를 텍스트로 사용하려면 str() 감싸야지\n",
    "\n",
    "\n",
    "name = '병훈'\n",
    "object_1 = 'notebook'\n",
    "age = 30\n",
    "is_adult = age > 30\n",
    "\n",
    "\n",
    "print(name + \"지금 공부 중임\")\n",
    "print(\"나는 지금\"+object_1+ \"중임\")\n",
    "print(\"나는 지금\"+ str(age) +\"인데 공부 중임\")\n",
    "\n",
    "print(\"나는 지금 공부 중인가? True\")\n"
   ]
  },
  {
   "cell_type": "code",
   "execution_count": 12,
   "metadata": {},
   "outputs": [
    {
     "name": "stdout",
     "output_type": "stream",
     "text": [
      "대화행 열차가 들어오고 있습니다\n"
     ]
    }
   ],
   "source": [
    "#자체 퀴즈\n",
    "# 변수 사용해서 다음 문장 만들기\n",
    "\n",
    "#변수명: station\n",
    "\n",
    "#변수값: (\"대화\", \"구파발\", \"김포공항\")\n",
    "\n",
    "#출력문 : xx행 열차가 들어오고 있습니다\n",
    "\n",
    "station_1 = '대화'\n",
    "station_2 = '구파발'\n",
    "station_3 = '김포공항'\n",
    "\n",
    "print(station_1 + \"행 열차가 들어오고 있습니다\")\n"
   ]
  },
  {
   "cell_type": "code",
   "execution_count": 17,
   "metadata": {},
   "outputs": [
    {
     "name": "stdout",
     "output_type": "stream",
     "text": [
      "2\n",
      "8\n",
      "16\n",
      "0\n",
      "1\n",
      "5\n"
     ]
    }
   ],
   "source": [
    "print(1+1)\n",
    "print(4*2)\n",
    "print(4**2)\n",
    "print(10%2)\n",
    "print(10%3)\n",
    "print(10//2)"
   ]
  },
  {
   "cell_type": "markdown",
   "metadata": {},
   "source": [
    "## 숫자 처리 함수"
   ]
  },
  {
   "cell_type": "code",
   "execution_count": 25,
   "metadata": {},
   "outputs": [
    {
     "name": "stdout",
     "output_type": "stream",
     "text": [
      "5\n",
      "16.0\n",
      "12\n",
      "10\n",
      "3\n",
      "5\n",
      "--------------------\n",
      "4\n",
      "4\n",
      "5.0\n"
     ]
    }
   ],
   "source": [
    "print(abs(-5)) #절대값\n",
    "print(pow(4,2)) #앞 숫자의 뒷숫자 승 예제는 4의 2승\n",
    "print(max(5,12)) #최대값\n",
    "print(min(10,11))\n",
    "print(round(3.14)) #반올림\n",
    "print(round(4.99))\n",
    "\n",
    "from math import *\n",
    "print(\"--------------------\")\n",
    "print(floor(4.99)) #내림\n",
    "print(ceil(3.11)) #올림\n",
    "print(sqrt(25)) #제곱근"
   ]
  },
  {
   "cell_type": "markdown",
   "metadata": {},
   "source": [
    "## 랜덤함수"
   ]
  },
  {
   "cell_type": "code",
   "execution_count": 31,
   "metadata": {},
   "outputs": [
    {
     "name": "stdout",
     "output_type": "stream",
     "text": [
      "0.18018286801532923\n",
      "3\n"
     ]
    }
   ],
   "source": [
    "from random import *\n",
    "\n",
    "print(random()) #0~1 사이 임의값 생성\n",
    "print(int(random()*10)) #소수점 컷\n"
   ]
  },
  {
   "cell_type": "code",
   "execution_count": 35,
   "metadata": {},
   "outputs": [
    {
     "name": "stdout",
     "output_type": "stream",
     "text": [
      "42\n",
      "31\n",
      "42\n"
     ]
    }
   ],
   "source": [
    "#로또\n",
    "\n",
    "print(int(random()*45)+1)\n",
    "\n",
    "print(randrange(1,46)) #1~46 미만의 임의값 생성\n",
    "print(randint(1,45)) #1~45 이하값"
   ]
  },
  {
   "cell_type": "code",
   "execution_count": 37,
   "metadata": {},
   "outputs": [
    {
     "name": "stdout",
     "output_type": "stream",
     "text": [
      "오프라인 스터디 모임 날짜는 매월 24일로 선정 되었습니다\n"
     ]
    }
   ],
   "source": [
    "# 스터디를 하기로 했는데 월 4회 진행, 3번은 온라인 1번은 오프라인\n",
    "# 조건 1 랜덤으로 날짜 뽑자\n",
    "# 조건 2 월별 날짜는 다름을 감안라여 최소 28일 이내로 정함\n",
    "# 조건 3 매워 1~3일은 스터디 준비를 해야하므로 제외\n",
    "\n",
    "#출력 예제 오프라인 스터디 모임 날짜는 매월 n 일로 선정 되었습니다.\n",
    "\n",
    "from random import *\n",
    "\n",
    "print(\"오프라인 스터디 모임 날짜는 매월 \"+ str(randint(4,28))+ \"일로 선정 되었습니다\")"
   ]
  },
  {
   "cell_type": "markdown",
   "metadata": {},
   "source": [
    "### 스플릿"
   ]
  },
  {
   "cell_type": "code",
   "execution_count": 42,
   "metadata": {},
   "outputs": [
    {
     "name": "stdout",
     "output_type": "stream",
     "text": [
      "성별 : 1\n",
      "연 : 95\n",
      "월 : 04\n",
      "일 : 22\n",
      "생년월일 : 950422\n",
      "뒤 7자리 : 1022222\n",
      "뒤 7자리 (뒤에부터) : 1022222\n"
     ]
    }
   ],
   "source": [
    "jumin = '950422-1022222'\n",
    "\n",
    "print(\"성별 : \"+jumin[7])\n",
    "print(\"연 : \"+jumin[0:2])\n",
    "print(\"월 : \"+jumin[2:4])\n",
    "print(\"일 : \"+jumin[4:6])\n",
    "print(\"생년월일 : \"+jumin[0:6])\n",
    "print(\"뒤 7자리 : \"+jumin[7:])\n",
    "print(\"뒤 7자리 (뒤에부터) : \"+jumin[-7:]) #맨 뒤부터 7번째 끝까지\n"
   ]
  },
  {
   "cell_type": "markdown",
   "metadata": {},
   "source": [
    "## 문자열 처리 함수"
   ]
  },
  {
   "cell_type": "code",
   "execution_count": 50,
   "metadata": {},
   "outputs": [
    {
     "name": "stdout",
     "output_type": "stream",
     "text": [
      "Python is Amazing\n",
      "python is amazing\n",
      "PYTHON IS AMAZING\n",
      "True\n",
      "17\n",
      "sql is Amazing\n",
      "----------------------\n",
      "5\n",
      "5\n",
      "2\n"
     ]
    }
   ],
   "source": [
    "python = \"Python is Amazing\"\n",
    "print(python)\n",
    "print(python.lower())\n",
    "print(python.upper())\n",
    "print(python[0].isupper()) #대문자가 있나요\n",
    "print(len(python))\n",
    "print(python.replace(\"Python\", \"sql\"))\n",
    "\n",
    "print(\"----------------------\")\n",
    "\n",
    "index = python.index(\"n\") #n의 위치 찾는 것\n",
    "print(index)\n",
    "print(python.find(\"n\"))\n",
    "print(python.count(\"n\"))\n",
    "\n",
    "#find의 경우 원하는 값이 없으면 -1, index 는 오류를 뱉는다 "
   ]
  },
  {
   "cell_type": "markdown",
   "metadata": {},
   "source": [
    "### 문자열 포맷"
   ]
  },
  {
   "cell_type": "code",
   "execution_count": 64,
   "metadata": {},
   "outputs": [
    {
     "name": "stdout",
     "output_type": "stream",
     "text": [
      "나는 100 살입니다\n",
      "나는 집를 좋아해요\n",
      "apple은 A로 시작해요\n",
      "------------------------------\n",
      "나는 100 살입니다\n",
      "파랑 색, 빨강 색\n",
      "------------------------------\n",
      "나는 1000살 입니다\n",
      "나는 100살이며, 일산삽니다\n",
      "------------------------------\n",
      "나는 1000살이며, green색 좋아\n"
     ]
    }
   ],
   "source": [
    "# 예제\n",
    "print(\"나는 %d 살입니다\" % 100) #d는 정수\n",
    "print(\"나는 %s를 좋아해요\" % '집') #s는 문자\n",
    "print(\"apple은 %c로 시작해요\" % 'A') #c는 한 글자\n",
    "\n",
    "print(\"------------------------------\")\n",
    "print(\"나는 %s 살입니다\" % 100) #s는 문자\n",
    "print(\"%s 색, %s 색\" %(\"파랑\", \"빨강\"))\n",
    "\n",
    "print(\"------------------------------\")\n",
    "\n",
    "print(\"나는 {}살 입니다\".format(1000))\n",
    "\n",
    "\n",
    "print(\"나는 {age}살이며, {location}삽니다\".format(age=100, location='일산'))\n",
    "\n",
    "print(\"------------------------------\")\n",
    "age = 1000\n",
    "color = \"green\"\n",
    "\n",
    "print(f\"나는 {age}살이며, {color}색 좋아\")"
   ]
  },
  {
   "cell_type": "markdown",
   "metadata": {},
   "source": [
    "### 탈출 문자"
   ]
  },
  {
   "cell_type": "code",
   "execution_count": 72,
   "metadata": {},
   "outputs": [
    {
     "name": "stdout",
     "output_type": "stream",
     "text": [
      "집에가고싶지만,\n",
      "이번 챕터만 참자\n",
      "저는 '비빔인간' 입니다\n",
      "저는 \"비빔인간\" 입니다\n",
      "저는 \"비빔인간\" 입니다\n",
      "C\\users\\bhbh\\\n",
      "PineApple\n",
      "RedApple\n",
      "Red\tapple\n"
     ]
    }
   ],
   "source": [
    "#줄바꿈 문자 = \\n\n",
    "\n",
    "print(\"집에가고싶지만,\\n이번 챕터만 참자\")\n",
    "\n",
    "#저는 \"비빔인간\" 입니다\n",
    "#\\사용시 문장안에 \"\" 사용 가능\n",
    "print(\"저는 '비빔인간' 입니다\")\n",
    "print('저는 \"비빔인간\" 입니다')\n",
    "print(\"저는 \\\"비빔인간\\\" 입니다\")\n",
    "\n",
    "#\\\\ 두번 사용시 문장 내에서 '\\'만 표기\n",
    "#url 같은 경우 탈출문자를 사용하기 때문에 역슬러쉬를 두번 써줘야 한다\n",
    "print(\"C\\\\users\\\\bhbh\\\\\")\n",
    "\n",
    "#\\r 커서 맨앞으로 이동\n",
    "print(\"Red Apple\\rPine\")\n",
    "#\\b backspace\n",
    "print(\"Redd\\bApple\")\n",
    "#t tab\n",
    "print(\"Red\\tapple\")"
   ]
  },
  {
   "cell_type": "code",
   "execution_count": 76,
   "metadata": {},
   "outputs": [
    {
     "name": "stdout",
     "output_type": "stream",
     "text": [
      "naver\n",
      "nav51!\n",
      "http://naver.com의 비밀번호는 nav51!입니다\n"
     ]
    }
   ],
   "source": [
    "#문제 사이트 별로 비밀번호 만들기\n",
    "\n",
    "#예\n",
    "#http://naver.com\n",
    "#규칙1 http:// 부분 제외 -> naver.com\n",
    "#규칙2 처음 만나는 점(.) 이후 부분 제외 -> naver\n",
    "#규칙3 남은 글자 중 처음 세자리 + 글자 갯수 + 글자 내 e 개수 + !로 구성\n",
    "\n",
    "#생성된 비밀번호 nav51!\n",
    "\n",
    "url = 'http://naver.com'\n",
    "\n",
    "\n",
    "my_pw1 = url.replace(\"http://\",\"\")\n",
    "my_pw2 = my_pw1[:my_pw1.index(\".\")]\n",
    "print(my_pw2)\n",
    "my_pw3 = str(my_pw2[0:3]) + str(len(my_pw2)) + str(my_pw2.count(\"e\")) +\"!\"\n",
    "print(my_pw3)\n",
    "print(f\"{url}의 비밀번호는 {my_pw3}입니다\")"
   ]
  },
  {
   "cell_type": "code",
   "execution_count": null,
   "metadata": {},
   "outputs": [],
   "source": []
  },
  {
   "cell_type": "code",
   "execution_count": null,
   "metadata": {},
   "outputs": [],
   "source": []
  },
  {
   "cell_type": "code",
   "execution_count": null,
   "metadata": {},
   "outputs": [],
   "source": []
  }
 ],
 "metadata": {
  "kernelspec": {
   "display_name": "base",
   "language": "python",
   "name": "python3"
  },
  "language_info": {
   "codemirror_mode": {
    "name": "ipython",
    "version": 3
   },
   "file_extension": ".py",
   "mimetype": "text/x-python",
   "name": "python",
   "nbconvert_exporter": "python",
   "pygments_lexer": "ipython3",
   "version": "3.11.7"
  }
 },
 "nbformat": 4,
 "nbformat_minor": 2
}
