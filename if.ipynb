{
 "cells": [
  {
   "cell_type": "markdown",
   "metadata": {},
   "source": [
    "## IF practice"
   ]
  },
  {
   "cell_type": "markdown",
   "metadata": {},
   "source": [
    "- 분기, 조건문"
   ]
  },
  {
   "cell_type": "code",
   "execution_count": 4,
   "metadata": {},
   "outputs": [
    {
     "name": "stdout",
     "output_type": "stream",
     "text": [
      "마스크 ㄱ\n"
     ]
    }
   ],
   "source": [
    "# if 조건:\n",
    "\n",
    "weather = \"비\"\n",
    "\n",
    "if weather == \"비\":\n",
    "    print(\"우산 ㄱ\")\n",
    "elif weather == \"미세먼지\":\n",
    "    print(\"마스크 ㄱ\")\n",
    "else:\n",
    "    print(\"그냥 나가\")"
   ]
  },
  {
   "cell_type": "code",
   "execution_count": 5,
   "metadata": {},
   "outputs": [
    {
     "name": "stdout",
     "output_type": "stream",
     "text": [
      "우산 ㄱ\n"
     ]
    }
   ],
   "source": [
    "# if 조건:\n",
    "# input 사용\n",
    "weather = input(\"오늘 날씨는 어때?\")\n",
    "\n",
    "if weather == \"비\":\n",
    "    print(\"우산 ㄱ\")\n",
    "elif weather == \"미세먼지\":\n",
    "    print(\"마스크 ㄱ\")\n",
    "else:\n",
    "    print(\"그냥 나가\")"
   ]
  },
  {
   "cell_type": "code",
   "execution_count": 6,
   "metadata": {},
   "outputs": [
    {
     "name": "stdout",
     "output_type": "stream",
     "text": [
      "즉당함\n"
     ]
    }
   ],
   "source": [
    "#기온으로 예제 만들기\n",
    "temp = int(input(\"오늘 기온은 어떤가요\"))\n",
    "\n",
    "if temp > 30:\n",
    "    print(\"아 더워\")\n",
    "elif temp <= 30 and temp > 20:\n",
    "    print(\"즉당함\")\n",
    "else:\n",
    "    print(\"추웡\")\n"
   ]
  },
  {
   "cell_type": "code",
   "execution_count": null,
   "metadata": {},
   "outputs": [],
   "source": []
  },
  {
   "cell_type": "code",
   "execution_count": null,
   "metadata": {},
   "outputs": [],
   "source": []
  },
  {
   "cell_type": "code",
   "execution_count": null,
   "metadata": {},
   "outputs": [],
   "source": []
  },
  {
   "cell_type": "code",
   "execution_count": null,
   "metadata": {},
   "outputs": [],
   "source": []
  },
  {
   "cell_type": "code",
   "execution_count": null,
   "metadata": {},
   "outputs": [],
   "source": []
  },
  {
   "cell_type": "code",
   "execution_count": null,
   "metadata": {},
   "outputs": [],
   "source": []
  },
  {
   "cell_type": "code",
   "execution_count": null,
   "metadata": {},
   "outputs": [],
   "source": []
  }
 ],
 "metadata": {
  "kernelspec": {
   "display_name": "base",
   "language": "python",
   "name": "python3"
  },
  "language_info": {
   "codemirror_mode": {
    "name": "ipython",
    "version": 3
   },
   "file_extension": ".py",
   "mimetype": "text/x-python",
   "name": "python",
   "nbconvert_exporter": "python",
   "pygments_lexer": "ipython3",
   "version": "3.11.7"
  }
 },
 "nbformat": 4,
 "nbformat_minor": 2
}
